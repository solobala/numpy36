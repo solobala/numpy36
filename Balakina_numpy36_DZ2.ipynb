{
  "nbformat": 4,
  "nbformat_minor": 0,
  "metadata": {
    "colab": {
      "provenance": [],
      "collapsed_sections": [],
      "authorship_tag": "ABX9TyObh/wb8CvipqfNF7OSMWh3",
      "include_colab_link": true
    },
    "kernelspec": {
      "name": "python3",
      "display_name": "Python 3"
    },
    "language_info": {
      "name": "python"
    }
  },
  "cells": [
    {
      "cell_type": "markdown",
      "metadata": {
        "id": "view-in-github",
        "colab_type": "text"
      },
      "source": [
        "<a href=\"https://colab.research.google.com/github/solobala/numpy36/blob/main/Balakina_numpy36_DZ2.ipynb\" target=\"_parent\"><img src=\"https://colab.research.google.com/assets/colab-badge.svg\" alt=\"Open In Colab\"/></a>"
      ]
    },
    {
      "cell_type": "markdown",
      "source": [
        "# Домашнее задание «Библиотека Pandas»"
      ],
      "metadata": {
        "id": "UaXz52MItWGJ"
      }
    },
    {
      "cell_type": "code",
      "source": [
        "import pandas as pd"
      ],
      "metadata": {
        "id": "p-4MILE5tiP6"
      },
      "execution_count": null,
      "outputs": []
    },
    {
      "cell_type": "markdown",
      "source": [
        "# Задание 1\n",
        "Скачайте с сайта grouplens.org...movielens/ датасет любого размера. Определите, какому фильму было выставлено больше всего оценок 5.0."
      ],
      "metadata": {
        "id": "FwEWXlAgtdDh"
      }
    },
    {
      "cell_type": "code",
      "source": [
        "!wget -O \"ml-latest-small.zip\" \"https://files.grouplens.org/datasets/movielens/ml-latest-small.zip\"   # Качаем архив выбранного датасета"
      ],
      "metadata": {
        "colab": {
          "base_uri": "https://localhost:8080/"
        },
        "id": "iUoEiXlgwnIP",
        "outputId": "d6ee90b1-a57e-45c2-d614-68b16b78ad90"
      },
      "execution_count": null,
      "outputs": [
        {
          "output_type": "stream",
          "name": "stdout",
          "text": [
            "--2022-08-17 07:36:27--  https://files.grouplens.org/datasets/movielens/ml-latest-small.zip\n",
            "Resolving files.grouplens.org (files.grouplens.org)... 128.101.65.152\n",
            "Connecting to files.grouplens.org (files.grouplens.org)|128.101.65.152|:443... connected.\n",
            "HTTP request sent, awaiting response... 200 OK\n",
            "Length: 978202 (955K) [application/zip]\n",
            "Saving to: ‘ml-latest-small.zip’\n",
            "\n",
            "ml-latest-small.zip 100%[===================>] 955.28K  4.57MB/s    in 0.2s    \n",
            "\n",
            "2022-08-17 07:36:28 (4.57 MB/s) - ‘ml-latest-small.zip’ saved [978202/978202]\n",
            "\n"
          ]
        }
      ]
    },
    {
      "cell_type": "code",
      "source": [
        "from zipfile import ZipFile  # Подключаем библиотеку ZipFile из пакета zipfile"
      ],
      "metadata": {
        "id": "cuLKPNZlxiID"
      },
      "execution_count": null,
      "outputs": []
    },
    {
      "cell_type": "code",
      "source": [
        "with ZipFile('ml-latest-small.zip', 'r') as zip_file:  # Распаковываем архив в сессионное хранилище в папку ml-latest-small. Нам понадобятся файлы ratings.csv и movies.csv\n",
        "     #zip_file.extractall('/content/')\n",
        "    print(zip_file.infolist())\n",
        "    zip_file.extract('ml-latest-small/ratings.csv')\n",
        "    zip_file.extract('ml-latest-small/movies.csv')"
      ],
      "metadata": {
        "id": "y1Ry599xxpN6",
        "colab": {
          "base_uri": "https://localhost:8080/"
        },
        "outputId": "79942d0f-d3c4-4232-8b0c-ff4e2a263bdb"
      },
      "execution_count": null,
      "outputs": [
        {
          "output_type": "stream",
          "name": "stdout",
          "text": [
            "[<ZipInfo filename='ml-latest-small/' filemode='drwxr-xr-x' external_attr=0x10>, <ZipInfo filename='ml-latest-small/links.csv' compress_type=deflate filemode='-rw-r--r--' file_size=197979 compress_size=87110>, <ZipInfo filename='ml-latest-small/tags.csv' compress_type=deflate filemode='-rw-r--r--' file_size=118660 compress_size=36263>, <ZipInfo filename='ml-latest-small/ratings.csv' compress_type=deflate filemode='-rw-r--r--' file_size=2483723 compress_size=684231>, <ZipInfo filename='ml-latest-small/README.txt' compress_type=deflate filemode='-rw-r--r--' file_size=8342 compress_size=3285>, <ZipInfo filename='ml-latest-small/movies.csv' compress_type=deflate filemode='-rw-r--r--' file_size=494431 compress_size=166235>]\n"
          ]
        }
      ]
    },
    {
      "cell_type": "code",
      "source": [
        "data_ratings = pd.read_csv('/content/ml-latest-small/ratings.csv') # Читаем файл raiting.csv"
      ],
      "metadata": {
        "id": "DGDVr5WB090V"
      },
      "execution_count": null,
      "outputs": []
    },
    {
      "cell_type": "code",
      "source": [
        "data_ratings_filtered =data_ratings[data_ratings['rating']==5.0]  # отфильтровываем фильмы с оценками 5.0"
      ],
      "metadata": {
        "id": "SH7QXWCtHXme"
      },
      "execution_count": null,
      "outputs": []
    },
    {
      "cell_type": "code",
      "source": [
        "# Ищем идентификатор фильма с наибольшим к-вом пятерок. \n",
        "# для этого группируем фильмы по movieId, \n",
        "# считаем кол-во пятерок для каждого идентификаторы, \n",
        "# сортируем по убыванию и берем только 1-ю строку\n",
        "\n",
        "my_filter = data_ratings_filtered[['movieId', 'rating']].groupby('movieId').count().sort_values(by = 'rating', ascending = False).head(1).index.values[0]\n",
        "type(data_ratings_filtered[['movieId', 'rating']].groupby('movieId').count().sort_values(by = 'rating', ascending = False).head(1))\n",
        "#my_filter"
      ],
      "metadata": {
        "colab": {
          "base_uri": "https://localhost:8080/"
        },
        "id": "ZPlMIf3T1gWB",
        "outputId": "51e60d55-638c-4008-b00e-f1305d1bb7e1"
      },
      "execution_count": null,
      "outputs": [
        {
          "output_type": "execute_result",
          "data": {
            "text/plain": [
              "pandas.core.frame.DataFrame"
            ]
          },
          "metadata": {},
          "execution_count": 52
        }
      ]
    },
    {
      "cell_type": "code",
      "source": [
        "my_filter = data_ratings_filtered.movieId.value_counts().head(1).index.values[0]  # другой способ. Но тогда, Mergeииспользовать нельзяЮ т.к получается не датафрейм, а серия\n",
        "my_filter\n",
        "type(data_ratings_filtered.movieId.value_counts().head(1)) \n"
      ],
      "metadata": {
        "colab": {
          "base_uri": "https://localhost:8080/"
        },
        "id": "oEn-0yJV_OXN",
        "outputId": "d9ac98ab-5b68-4652-850d-ef73a7771576"
      },
      "execution_count": null,
      "outputs": [
        {
          "output_type": "execute_result",
          "data": {
            "text/plain": [
              "pandas.core.series.Series"
            ]
          },
          "metadata": {},
          "execution_count": 72
        }
      ]
    },
    {
      "cell_type": "code",
      "execution_count": null,
      "metadata": {
        "id": "Jw4pHvhwtJWs"
      },
      "outputs": [],
      "source": [
        "data = pd.read_csv('/content/ml-latest-small/movies.csv') # теперь читаем файл movies.csv с названиями фильмов"
      ]
    },
    {
      "cell_type": "code",
      "source": [
        "print(f\"Фильм с наибольшим количеством оценок 5.0: {data[data['movieId'] == my_filter]['title'].values[0]}\")"
      ],
      "metadata": {
        "colab": {
          "base_uri": "https://localhost:8080/"
        },
        "id": "Ie2gLo6lIsJA",
        "outputId": "c457be23-e9db-4426-d553-9a14c32c5041"
      },
      "execution_count": null,
      "outputs": [
        {
          "output_type": "stream",
          "name": "stdout",
          "text": [
            "Фильм с наибольшим количеством оценок 5.0: Shawshank Redemption, The (1994)\n"
          ]
        }
      ]
    },
    {
      "cell_type": "code",
      "source": [
        "# другой способ - решение через merge\n",
        "\n",
        "joined = data_ratings_filtered[['movieId', 'rating']].groupby('movieId').count().sort_values(by = 'rating', ascending = False).head(1).merge(data, on ='movieId', how = 'left')\n"
      ],
      "metadata": {
        "id": "g0MFsSzyOW84"
      },
      "execution_count": null,
      "outputs": []
    },
    {
      "cell_type": "code",
      "source": [
        "print(f\"Фильм с наибольшим количеством оценок 5.0: {joined['title'].values[0]}\")"
      ],
      "metadata": {
        "colab": {
          "base_uri": "https://localhost:8080/"
        },
        "id": "worxhV_X_3xi",
        "outputId": "e5debeef-1e4e-43f5-a130-c189709e6c46"
      },
      "execution_count": null,
      "outputs": [
        {
          "output_type": "stream",
          "name": "stdout",
          "text": [
            "Фильм с наибольшим количеством оценок 5.0: Shawshank Redemption, The (1994)\n"
          ]
        }
      ]
    },
    {
      "cell_type": "markdown",
      "source": [
        "# Задание 2\n",
        "По данным файла power.csv посчитайте суммарное потребление стран Прибалтики (Латвия, Литва и Эстония) категорий 4, 12 и 21 за период с 2005 по 2010 года. Не учитывайте в расчетах отрицательные значения quantity."
      ],
      "metadata": {
        "id": "AsE09C4mtoiF"
      }
    },
    {
      "cell_type": "code",
      "source": [
        "def baltic(country):\n",
        "    \"\"\"Объединение стран Прибалтики\n",
        "      не использовать, если используем\n",
        "      my_filter\n",
        "    \"\"\"\n",
        "    if country in ['lithuania', 'Latvia', 'Estonia']:\n",
        "      return 'Прибалтика'\n",
        "    return 'Other'"
      ],
      "metadata": {
        "id": "3Y6pvSiVVWZX"
      },
      "execution_count": null,
      "outputs": []
    },
    {
      "cell_type": "code",
      "source": [
        "def my_categories(category):\n",
        "    \"\"\" Отбор категорий потребления согласно критерию \n",
        "    не использовать, если используем\n",
        "      my_filter\n",
        "    \"\"\"\n",
        "    if category in [4, 12, 21]:\n",
        "      return \"selected\"\n",
        "    return \"Other\""
      ],
      "metadata": {
        "id": "zFjha_DHWG-Z"
      },
      "execution_count": null,
      "outputs": []
    },
    {
      "cell_type": "code",
      "source": [
        "def my_filter(row): #быстрее ищет по множеству,Ж а не по списку, но здесь маленькая длина списка, нет смысла\n",
        "    \"\"\"Отбор сразу по всем критериям - вхождению в Прибалтику, \n",
        "    нужной категории, году и неотрицатиельному количеству\"\"\"\n",
        "    return row['country'] in ['lithuania', 'Latvia', 'Estonia'] \\\n",
        "      and  row['category'] in [4, 12, 21] \\\n",
        "      and row['year'] in range(2005,2011) \\\n",
        "      and row['quantity'] >= 0\n",
        "    "
      ],
      "metadata": {
        "id": "Og1GJpikiLAi"
      },
      "execution_count": null,
      "outputs": []
    },
    {
      "cell_type": "code",
      "source": [
        "data = pd.read_csv('/content/power.csv')\n",
        "data.head()"
      ],
      "metadata": {
        "colab": {
          "base_uri": "https://localhost:8080/",
          "height": 206
        },
        "id": "yT2CAVx7U1ux",
        "outputId": "41774391-ee66-4092-d4fc-b48ca867c18f"
      },
      "execution_count": null,
      "outputs": [
        {
          "output_type": "execute_result",
          "data": {
            "text/plain": [
              "   country  year  quantity  category\n",
              "0  Austria  1996       5.0       1.0\n",
              "1  Austria  1995      17.0       1.0\n",
              "2  Belgium  2014       0.0       1.0\n",
              "3  Belgium  2013       0.0       1.0\n",
              "4  Belgium  2012      35.0       1.0"
            ],
            "text/html": [
              "\n",
              "  <div id=\"df-48750c2b-2930-4e7c-b90e-e7c3c4397001\">\n",
              "    <div class=\"colab-df-container\">\n",
              "      <div>\n",
              "<style scoped>\n",
              "    .dataframe tbody tr th:only-of-type {\n",
              "        vertical-align: middle;\n",
              "    }\n",
              "\n",
              "    .dataframe tbody tr th {\n",
              "        vertical-align: top;\n",
              "    }\n",
              "\n",
              "    .dataframe thead th {\n",
              "        text-align: right;\n",
              "    }\n",
              "</style>\n",
              "<table border=\"1\" class=\"dataframe\">\n",
              "  <thead>\n",
              "    <tr style=\"text-align: right;\">\n",
              "      <th></th>\n",
              "      <th>country</th>\n",
              "      <th>year</th>\n",
              "      <th>quantity</th>\n",
              "      <th>category</th>\n",
              "    </tr>\n",
              "  </thead>\n",
              "  <tbody>\n",
              "    <tr>\n",
              "      <th>0</th>\n",
              "      <td>Austria</td>\n",
              "      <td>1996</td>\n",
              "      <td>5.0</td>\n",
              "      <td>1.0</td>\n",
              "    </tr>\n",
              "    <tr>\n",
              "      <th>1</th>\n",
              "      <td>Austria</td>\n",
              "      <td>1995</td>\n",
              "      <td>17.0</td>\n",
              "      <td>1.0</td>\n",
              "    </tr>\n",
              "    <tr>\n",
              "      <th>2</th>\n",
              "      <td>Belgium</td>\n",
              "      <td>2014</td>\n",
              "      <td>0.0</td>\n",
              "      <td>1.0</td>\n",
              "    </tr>\n",
              "    <tr>\n",
              "      <th>3</th>\n",
              "      <td>Belgium</td>\n",
              "      <td>2013</td>\n",
              "      <td>0.0</td>\n",
              "      <td>1.0</td>\n",
              "    </tr>\n",
              "    <tr>\n",
              "      <th>4</th>\n",
              "      <td>Belgium</td>\n",
              "      <td>2012</td>\n",
              "      <td>35.0</td>\n",
              "      <td>1.0</td>\n",
              "    </tr>\n",
              "  </tbody>\n",
              "</table>\n",
              "</div>\n",
              "      <button class=\"colab-df-convert\" onclick=\"convertToInteractive('df-48750c2b-2930-4e7c-b90e-e7c3c4397001')\"\n",
              "              title=\"Convert this dataframe to an interactive table.\"\n",
              "              style=\"display:none;\">\n",
              "        \n",
              "  <svg xmlns=\"http://www.w3.org/2000/svg\" height=\"24px\"viewBox=\"0 0 24 24\"\n",
              "       width=\"24px\">\n",
              "    <path d=\"M0 0h24v24H0V0z\" fill=\"none\"/>\n",
              "    <path d=\"M18.56 5.44l.94 2.06.94-2.06 2.06-.94-2.06-.94-.94-2.06-.94 2.06-2.06.94zm-11 1L8.5 8.5l.94-2.06 2.06-.94-2.06-.94L8.5 2.5l-.94 2.06-2.06.94zm10 10l.94 2.06.94-2.06 2.06-.94-2.06-.94-.94-2.06-.94 2.06-2.06.94z\"/><path d=\"M17.41 7.96l-1.37-1.37c-.4-.4-.92-.59-1.43-.59-.52 0-1.04.2-1.43.59L10.3 9.45l-7.72 7.72c-.78.78-.78 2.05 0 2.83L4 21.41c.39.39.9.59 1.41.59.51 0 1.02-.2 1.41-.59l7.78-7.78 2.81-2.81c.8-.78.8-2.07 0-2.86zM5.41 20L4 18.59l7.72-7.72 1.47 1.35L5.41 20z\"/>\n",
              "  </svg>\n",
              "      </button>\n",
              "      \n",
              "  <style>\n",
              "    .colab-df-container {\n",
              "      display:flex;\n",
              "      flex-wrap:wrap;\n",
              "      gap: 12px;\n",
              "    }\n",
              "\n",
              "    .colab-df-convert {\n",
              "      background-color: #E8F0FE;\n",
              "      border: none;\n",
              "      border-radius: 50%;\n",
              "      cursor: pointer;\n",
              "      display: none;\n",
              "      fill: #1967D2;\n",
              "      height: 32px;\n",
              "      padding: 0 0 0 0;\n",
              "      width: 32px;\n",
              "    }\n",
              "\n",
              "    .colab-df-convert:hover {\n",
              "      background-color: #E2EBFA;\n",
              "      box-shadow: 0px 1px 2px rgba(60, 64, 67, 0.3), 0px 1px 3px 1px rgba(60, 64, 67, 0.15);\n",
              "      fill: #174EA6;\n",
              "    }\n",
              "\n",
              "    [theme=dark] .colab-df-convert {\n",
              "      background-color: #3B4455;\n",
              "      fill: #D2E3FC;\n",
              "    }\n",
              "\n",
              "    [theme=dark] .colab-df-convert:hover {\n",
              "      background-color: #434B5C;\n",
              "      box-shadow: 0px 1px 3px 1px rgba(0, 0, 0, 0.15);\n",
              "      filter: drop-shadow(0px 1px 2px rgba(0, 0, 0, 0.3));\n",
              "      fill: #FFFFFF;\n",
              "    }\n",
              "  </style>\n",
              "\n",
              "      <script>\n",
              "        const buttonEl =\n",
              "          document.querySelector('#df-48750c2b-2930-4e7c-b90e-e7c3c4397001 button.colab-df-convert');\n",
              "        buttonEl.style.display =\n",
              "          google.colab.kernel.accessAllowed ? 'block' : 'none';\n",
              "\n",
              "        async function convertToInteractive(key) {\n",
              "          const element = document.querySelector('#df-48750c2b-2930-4e7c-b90e-e7c3c4397001');\n",
              "          const dataTable =\n",
              "            await google.colab.kernel.invokeFunction('convertToInteractive',\n",
              "                                                     [key], {});\n",
              "          if (!dataTable) return;\n",
              "\n",
              "          const docLinkHtml = 'Like what you see? Visit the ' +\n",
              "            '<a target=\"_blank\" href=https://colab.research.google.com/notebooks/data_table.ipynb>data table notebook</a>'\n",
              "            + ' to learn more about interactive tables.';\n",
              "          element.innerHTML = '';\n",
              "          dataTable['output_type'] = 'display_data';\n",
              "          await google.colab.output.renderOutput(dataTable, element);\n",
              "          const docLink = document.createElement('div');\n",
              "          docLink.innerHTML = docLinkHtml;\n",
              "          element.appendChild(docLink);\n",
              "        }\n",
              "      </script>\n",
              "    </div>\n",
              "  </div>\n",
              "  "
            ]
          },
          "metadata": {},
          "execution_count": 8
        }
      ]
    },
    {
      "cell_type": "code",
      "source": [
        "data['my_categories'] = data.category.apply(my_categories) #не исп., если исп. my_filter\n"
      ],
      "metadata": {
        "id": "0Xo0mbpJYF2-"
      },
      "execution_count": null,
      "outputs": []
    },
    {
      "cell_type": "code",
      "source": [
        "data['baltic'] = data.country.apply(baltic) #не исп., если исп. my_filter"
      ],
      "metadata": {
        "id": "GOoMT3C8gYOW"
      },
      "execution_count": null,
      "outputs": []
    },
    {
      "cell_type": "code",
      "source": [
        "filtered_data = data [(data['baltic'] == 'Прибалтика')  #не исп., если исп. my_filter\n",
        "& (data['my_categories'] == 'selected') \n",
        "& (data['year'] > 2004)  \n",
        "& (data['year'] < 2011) \n",
        "& (data['quantity']>=0)]\n",
        "\n"
      ],
      "metadata": {
        "id": "hLKu0AXJZK03"
      },
      "execution_count": null,
      "outputs": []
    },
    {
      "cell_type": "code",
      "source": [
        "data['my_filter'] = data.apply(my_filter, axis = 1)"
      ],
      "metadata": {
        "id": "7Zi1y8JY732m"
      },
      "execution_count": null,
      "outputs": []
    },
    {
      "cell_type": "code",
      "source": [
        "# то же самое без def, но с использованием lambda - функции\n",
        "data['my_filter'] = data.apply(lambda x: x['country'] in ['lithuania', 'Latvia', 'Estonia'] \\\n",
        "      and x['category'] in [4, 12, 21] \\\n",
        "      and x['year'] in range(2005,2011) \\\n",
        "      and x['quantity'] >= 0 ,axis = 1)"
      ],
      "metadata": {
        "id": "V6XotgWhOtT7"
      },
      "execution_count": null,
      "outputs": []
    },
    {
      "cell_type": "code",
      "source": [
        "filtered_data = data [(data['my_filter'] == True)] "
      ],
      "metadata": {
        "id": "zWADGs8m8nEZ"
      },
      "execution_count": null,
      "outputs": []
    },
    {
      "cell_type": "code",
      "source": [
        "print(f\" суммарное потребление стран Прибалтики (Латвия, Литва и Эстония) категорий 4, 12 и 21 за период с 2005 по 2010 года: {sum(filtered_data['quantity'])}\")"
      ],
      "metadata": {
        "colab": {
          "base_uri": "https://localhost:8080/"
        },
        "id": "6TGBI5Oo8yPp",
        "outputId": "4680509f-9d24-4aaa-833c-ee70784cd4ca"
      },
      "execution_count": null,
      "outputs": [
        {
          "output_type": "stream",
          "name": "stdout",
          "text": [
            " суммарное потребление стран Прибалтики (Латвия, Литва и Эстония) категорий 4, 12 и 21 за период с 2005 по 2010 года: 118284.0\n"
          ]
        }
      ]
    },
    {
      "cell_type": "markdown",
      "source": [
        "# Задание 3\n",
        "Выберите страницу любого сайта с табличными данными. Импортируйте таблицы в pandas dataframe.\n",
        "Примеры страниц (необязательно брать именно эти):\n",
        "https://fortrader.org/quotes\n",
        "www.finanz.ru...om-vremeni"
      ],
      "metadata": {
        "id": "AMnNGuSPtu3p"
      }
    },
    {
      "cell_type": "code",
      "source": [
        "page_url = 'https://www.finanz.ru/aktsii/polymetal'"
      ],
      "metadata": {
        "id": "BUlp2J_vt0WW"
      },
      "execution_count": null,
      "outputs": []
    },
    {
      "cell_type": "code",
      "source": [
        "df = pd.read_html(page_url, attrs ={'class':'header_user_pricebox'}, encoding = 'utf-8')"
      ],
      "metadata": {
        "id": "zhwPbHnspDcw"
      },
      "execution_count": null,
      "outputs": []
    },
    {
      "cell_type": "code",
      "source": [
        "df"
      ],
      "metadata": {
        "colab": {
          "base_uri": "https://localhost:8080/"
        },
        "id": "uJtacCJZu_hA",
        "outputId": "0daeb901-f48a-4ff6-9d3e-d2214d9e5392"
      },
      "execution_count": null,
      "outputs": [
        {
          "output_type": "execute_result",
          "data": {
            "text/plain": [
              "[     0       1     2        3       4      5        6       7      8   \\\n",
              " 0  ММВБ   2 137  2,3%   Nasdaq  12 494  -1,2%  Биткойн  22 883  -1,3%   \n",
              " 1   РТС   1 116  3,0%   S&P500   4 122  -0,4%    Нефть     961  -0,5%   \n",
              " 2   Dow  32 833  0,1%  FTSE100   7 488   0,1%   Золото   1 794   0,0%   \n",
              " \n",
              "         9       10    11  \n",
              " 0  USD/RUB  604750  0,0%  \n",
              " 1  EUR/RUB  617903  0,0%  \n",
              " 2  EUR/USD   10218  0,0%  ]"
            ]
          },
          "metadata": {},
          "execution_count": 175
        }
      ]
    }
  ]
}