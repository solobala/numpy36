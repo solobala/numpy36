{
  "nbformat": 4,
  "nbformat_minor": 0,
  "metadata": {
    "colab": {
      "provenance": [],
      "collapsed_sections": [],
      "authorship_tag": "ABX9TyNcfdhsQM1mwCe70e8j0Gno",
      "include_colab_link": true
    },
    "kernelspec": {
      "name": "python3",
      "display_name": "Python 3"
    },
    "language_info": {
      "name": "python"
    }
  },
  "cells": [
    {
      "cell_type": "markdown",
      "metadata": {
        "id": "view-in-github",
        "colab_type": "text"
      },
      "source": [
        "<a href=\"https://colab.research.google.com/github/solobala/numpy36/blob/main/Balakina_numpy36_DZ2.ipynb\" target=\"_parent\"><img src=\"https://colab.research.google.com/assets/colab-badge.svg\" alt=\"Open In Colab\"/></a>"
      ]
    },
    {
      "cell_type": "markdown",
      "source": [
        "# Домашнее задание «Библиотека Pandas»"
      ],
      "metadata": {
        "id": "UaXz52MItWGJ"
      }
    },
    {
      "cell_type": "code",
      "source": [
        "import pandas as pd"
      ],
      "metadata": {
        "id": "p-4MILE5tiP6"
      },
      "execution_count": null,
      "outputs": []
    },
    {
      "cell_type": "markdown",
      "source": [
        "# Задание 1\n",
        "Скачайте с сайта grouplens.org...movielens/ датасет любого размера. Определите, какому фильму было выставлено больше всего оценок 5.0."
      ],
      "metadata": {
        "id": "FwEWXlAgtdDh"
      }
    },
    {
      "cell_type": "code",
      "source": [
        "!wget -O \"ml-latest-small.zip\" \"https://files.grouplens.org/datasets/movielens/ml-latest-small.zip\"   # Качаем архив выбранного датасета"
      ],
      "metadata": {
        "colab": {
          "base_uri": "https://localhost:8080/"
        },
        "id": "iUoEiXlgwnIP",
        "outputId": "e0bce330-ef70-4c50-a54f-8deb5787a1a5"
      },
      "execution_count": null,
      "outputs": [
        {
          "output_type": "stream",
          "name": "stdout",
          "text": [
            "--2022-09-14 08:57:38--  https://files.grouplens.org/datasets/movielens/ml-latest-small.zip\n",
            "Resolving files.grouplens.org (files.grouplens.org)... 128.101.65.152\n",
            "Connecting to files.grouplens.org (files.grouplens.org)|128.101.65.152|:443... connected.\n",
            "HTTP request sent, awaiting response... 200 OK\n",
            "Length: 978202 (955K) [application/zip]\n",
            "Saving to: ‘ml-latest-small.zip’\n",
            "\n",
            "ml-latest-small.zip 100%[===================>] 955.28K  1.52MB/s    in 0.6s    \n",
            "\n",
            "2022-09-14 08:57:39 (1.52 MB/s) - ‘ml-latest-small.zip’ saved [978202/978202]\n",
            "\n"
          ]
        }
      ]
    },
    {
      "cell_type": "code",
      "source": [
        "from zipfile import ZipFile  # Подключаем библиотеку ZipFile из пакета zipfile"
      ],
      "metadata": {
        "id": "cuLKPNZlxiID"
      },
      "execution_count": null,
      "outputs": []
    },
    {
      "cell_type": "code",
      "source": [
        "with ZipFile('ml-latest-small.zip', 'r') as zip_file:  # Распаковываем архив в сессионное хранилище в папку ml-latest-small. Нам понадобятся файлы ratings.csv и movies.csv\n",
        "    # print(zip_file.infolist())\n",
        "    zip_file.extract('ml-latest-small/ratings.csv')\n",
        "    zip_file.extract('ml-latest-small/movies.csv')"
      ],
      "metadata": {
        "id": "y1Ry599xxpN6"
      },
      "execution_count": null,
      "outputs": []
    },
    {
      "cell_type": "code",
      "source": [
        "data_ratings = pd.read_csv('/content/ml-latest-small/ratings.csv') # Читаем файл raiting.csv"
      ],
      "metadata": {
        "id": "DGDVr5WB090V"
      },
      "execution_count": null,
      "outputs": []
    },
    {
      "cell_type": "code",
      "source": [
        "data_ratings_filtered = data_ratings[data_ratings['rating'] == 5.0]  # отфильтровываем фильмы с оценками 5.0  в новый датасет и далее работаем уже с ним"
      ],
      "metadata": {
        "id": "SH7QXWCtHXme"
      },
      "execution_count": null,
      "outputs": []
    },
    {
      "cell_type": "code",
      "source": [
        "# Ищем идентификатор фильма с наибольшим к-вом пятерок. \n",
        "# для этого группируем фильмы по movieId, \n",
        "# считаем кол-во пятерок для каждого идентификаторы, \n",
        "# сортируем по убыванию и берем только 1-ю строку\n",
        "%%time\n",
        "\n",
        "my_filter = data_ratings_filtered[['movieId', 'rating']].groupby('movieId').count().sort_values(by = 'rating', ascending = False).head(1).index.values[0]  # находим значение фильтра - способ 1\n",
        "# type(data_ratings_filtered[['movieId', 'rating']].groupby('movieId').count().sort_values(by = 'rating', ascending = False).head(1)) # Тип результата до использования index.values[0] - DataFrame\n",
        "my_filter"
      ],
      "metadata": {
        "colab": {
          "base_uri": "https://localhost:8080/"
        },
        "id": "ZPlMIf3T1gWB",
        "outputId": "46df436c-9df4-4091-b394-65c15a69bd0f"
      },
      "execution_count": null,
      "outputs": [
        {
          "output_type": "stream",
          "name": "stdout",
          "text": [
            "CPU times: user 7.8 ms, sys: 57 µs, total: 7.85 ms\n",
            "Wall time: 11.1 ms\n"
          ]
        },
        {
          "output_type": "execute_result",
          "data": {
            "text/plain": [
              "318"
            ]
          },
          "metadata": {},
          "execution_count": 19
        }
      ]
    },
    {
      "cell_type": "code",
      "source": [
        "%%time\n",
        "my_filter = data_ratings_filtered.movieId.value_counts().head(1).index.values[0]  #  Находим значение фильтра - способ 2. Но тогда, Merge использовать нельзя т.к получается не датафрейм, а серия. Но ищет быстрее в 3 раза\n",
        "my_filter\n",
        "# type(data_ratings_filtered.movieId.value_counts().head(1)) #Тип - Series\n"
      ],
      "metadata": {
        "colab": {
          "base_uri": "https://localhost:8080/"
        },
        "id": "oEn-0yJV_OXN",
        "outputId": "943f1ad8-76d8-4abf-abc0-81050a1a4562"
      },
      "execution_count": null,
      "outputs": [
        {
          "output_type": "stream",
          "name": "stdout",
          "text": [
            "CPU times: user 2.5 ms, sys: 0 ns, total: 2.5 ms\n",
            "Wall time: 2.49 ms\n"
          ]
        },
        {
          "output_type": "execute_result",
          "data": {
            "text/plain": [
              "318"
            ]
          },
          "metadata": {},
          "execution_count": 16
        }
      ]
    },
    {
      "cell_type": "code",
      "execution_count": null,
      "metadata": {
        "id": "Jw4pHvhwtJWs"
      },
      "outputs": [],
      "source": [
        "data = pd.read_csv('/content/ml-latest-small/movies.csv') # теперь читаем файл movies.csv с названиями фильмов"
      ]
    },
    {
      "cell_type": "code",
      "source": [
        "%%time\n",
        "print(f\"Фильм с наибольшим количеством оценок 5.0: {data[data['movieId'] == my_filter]['title'].values[0]}\") # подставляем сюда как  значение фильтра - my_filter"
      ],
      "metadata": {
        "colab": {
          "base_uri": "https://localhost:8080/"
        },
        "id": "Ie2gLo6lIsJA",
        "outputId": "c3da9ea6-0d21-44d5-9d03-95bb2848c908"
      },
      "execution_count": null,
      "outputs": [
        {
          "output_type": "stream",
          "name": "stdout",
          "text": [
            "Фильм с наибольшим количеством оценок 5.0: Shawshank Redemption, The (1994)\n",
            "CPU times: user 3.12 ms, sys: 1.04 ms, total: 4.16 ms\n",
            "Wall time: 4.15 ms\n"
          ]
        }
      ]
    },
    {
      "cell_type": "code",
      "source": [
        "%%time\n",
        "# можно сразу подставить значение фильтра,найденное способом 2, не обязательно помещать его в переменную My_filter - выходит в 6 раз быстрее чем по способу 1\n",
        "print(f\"Фильм с наибольшим количеством оценок 5.0: {data[data['movieId'] == data_ratings_filtered.movieId.value_counts().head(1).index.values[0]]['title'].values[0]}\")"
      ],
      "metadata": {
        "colab": {
          "base_uri": "https://localhost:8080/"
        },
        "id": "TqGHyx7fPEag",
        "outputId": "9fbbf19a-e21c-47f5-ccbe-e6164796a1cc"
      },
      "execution_count": null,
      "outputs": [
        {
          "output_type": "stream",
          "name": "stdout",
          "text": [
            "Фильм с наибольшим количеством оценок 5.0: Shawshank Redemption, The (1994)\n",
            "CPU times: user 2.68 ms, sys: 51 µs, total: 2.73 ms\n",
            "Wall time: 2.75 ms\n"
          ]
        }
      ]
    },
    {
      "cell_type": "code",
      "source": [
        "%%time\n",
        "# можно сразу подставить значение фильтра, найденное  сособом 1, не обязательно помещать его в переменную My_filter\n",
        "print(f\"Фильм с наибольшим количеством оценок 5.0: {data[data['movieId'] == data_ratings_filtered[['movieId', 'rating']].groupby('movieId').count().sort_values(by = 'rating', ascending = False).head(1).index.values[0]]['title'].values[0]}\")"
      ],
      "metadata": {
        "colab": {
          "base_uri": "https://localhost:8080/"
        },
        "id": "ViAIgsR_PeC9",
        "outputId": "e000c5d9-d322-414c-8a17-4c35287eb828"
      },
      "execution_count": null,
      "outputs": [
        {
          "output_type": "stream",
          "name": "stdout",
          "text": [
            "Фильм с наибольшим количеством оценок 5.0: Shawshank Redemption, The (1994)\n",
            "CPU times: user 9.83 ms, sys: 0 ns, total: 9.83 ms\n",
            "Wall time: 11.2 ms\n"
          ]
        }
      ]
    },
    {
      "cell_type": "code",
      "source": [
        "%%time\n",
        "# попытка решитьс  помощью merge . выходит очень долго, и сипользовать можно только значенние my_filter по способу 1, т.к с Series нельзя делать merge\n",
        "joined = data_ratings_filtered[['movieId', 'rating']].groupby('movieId').count().sort_values(by = 'rating', ascending = False).head(1).merge(data, on ='movieId', how = 'left') # другой способ - решение через merge, затрачено в 7 раз больше времени\n"
      ],
      "metadata": {
        "id": "g0MFsSzyOW84",
        "colab": {
          "base_uri": "https://localhost:8080/"
        },
        "outputId": "1a17ad42-9020-43df-e3a7-d6721f105630"
      },
      "execution_count": null,
      "outputs": [
        {
          "output_type": "stream",
          "name": "stdout",
          "text": [
            "CPU times: user 11.5 ms, sys: 116 µs, total: 11.6 ms\n",
            "Wall time: 13.6 ms\n"
          ]
        }
      ]
    },
    {
      "cell_type": "code",
      "source": [
        "%%time\n",
        "print(f\"Фильм с наибольшим количеством оценок 5.0: {joined['title'].values[0]}\")"
      ],
      "metadata": {
        "colab": {
          "base_uri": "https://localhost:8080/"
        },
        "id": "worxhV_X_3xi",
        "outputId": "2b16ec8a-bcb7-4218-f1b8-1d17707e3040"
      },
      "execution_count": null,
      "outputs": [
        {
          "output_type": "stream",
          "name": "stdout",
          "text": [
            "Фильм с наибольшим количеством оценок 5.0: Shawshank Redemption, The (1994)\n",
            "CPU times: user 1.59 ms, sys: 0 ns, total: 1.59 ms\n",
            "Wall time: 1.61 ms\n"
          ]
        }
      ]
    },
    {
      "cell_type": "markdown",
      "source": [
        "# Задание 2\n",
        "По данным файла power.csv посчитайте суммарное потребление стран Прибалтики (Латвия, Литва и Эстония) категорий 4, 12 и 21 за период с 2005 по 2010 года. Не учитывайте в расчетах отрицательные значения quantity."
      ],
      "metadata": {
        "id": "AsE09C4mtoiF"
      }
    },
    {
      "cell_type": "code",
      "source": [
        "!wget -O \"10._%D0%9E%D1%81%D0%BD%D0%BE%D0%B2%D1%8B_pandas.zip\" \"https://u.netology.ngcdn.ru/backend/uploads/lms/attachments/files/data/15255/10._%D0%9E%D1%81%D0%BD%D0%BE%D0%B2%D1%8B_pandas.zip\""
      ],
      "metadata": {
        "colab": {
          "base_uri": "https://localhost:8080/"
        },
        "id": "Vq7YV8Ao3JtC",
        "outputId": "10824027-acd3-423f-9883-a1dbb7db3ff0"
      },
      "execution_count": 25,
      "outputs": [
        {
          "output_type": "stream",
          "name": "stdout",
          "text": [
            "--2022-09-14 09:40:02--  https://u.netology.ngcdn.ru/backend/uploads/lms/attachments/files/data/15255/10._%D0%9E%D1%81%D0%BD%D0%BE%D0%B2%D1%8B_pandas.zip\n",
            "Resolving u.netology.ngcdn.ru (u.netology.ngcdn.ru)... 104.20.157.54, 104.20.156.54, 2606:4700:10::6814:9c36, ...\n",
            "Connecting to u.netology.ngcdn.ru (u.netology.ngcdn.ru)|104.20.157.54|:443... connected.\n",
            "HTTP request sent, awaiting response... 200 OK\n",
            "Length: 4762826 (4.5M) [application/x-zip-compressed]\n",
            "Saving to: ‘10._%D0%9E%D1%81%D0%BD%D0%BE%D0%B2%D1%8B_pandas.zip’\n",
            "\n",
            "10._%D0%9E%D1%81%D0 100%[===================>]   4.54M  15.5MB/s    in 0.3s    \n",
            "\n",
            "2022-09-14 09:40:03 (15.5 MB/s) - ‘10._%D0%9E%D1%81%D0%BD%D0%BE%D0%B2%D1%8B_pandas.zip’ saved [4762826/4762826]\n",
            "\n"
          ]
        }
      ]
    },
    {
      "cell_type": "code",
      "source": [
        "with ZipFile(\"10._%D0%9E%D1%81%D0%BD%D0%BE%D0%B2%D1%8B_pandas.zip\", 'r') as zip_file:  # Распаковываем архив в сессионное хранилище \n",
        "   # print(zip_file.infolist())\n",
        "    zip_file.extract('power.csv')"
      ],
      "metadata": {
        "id": "RVyU54-H3rNS"
      },
      "execution_count": 26,
      "outputs": []
    },
    {
      "cell_type": "code",
      "source": [
        "data = pd.read_csv('/content/power.csv')\n",
        "data.head()"
      ],
      "metadata": {
        "colab": {
          "base_uri": "https://localhost:8080/",
          "height": 206
        },
        "id": "yT2CAVx7U1ux",
        "outputId": "54208c74-c2a1-4938-dd21-6cea53ba72cb"
      },
      "execution_count": 27,
      "outputs": [
        {
          "output_type": "execute_result",
          "data": {
            "text/plain": [
              "   country  year  quantity  category\n",
              "0  Austria  1996       5.0         1\n",
              "1  Austria  1995      17.0         1\n",
              "2  Belgium  2014       0.0         1\n",
              "3  Belgium  2013       0.0         1\n",
              "4  Belgium  2012      35.0         1"
            ],
            "text/html": [
              "\n",
              "  <div id=\"df-2ba7645e-ee98-4d90-8739-d2553abab508\">\n",
              "    <div class=\"colab-df-container\">\n",
              "      <div>\n",
              "<style scoped>\n",
              "    .dataframe tbody tr th:only-of-type {\n",
              "        vertical-align: middle;\n",
              "    }\n",
              "\n",
              "    .dataframe tbody tr th {\n",
              "        vertical-align: top;\n",
              "    }\n",
              "\n",
              "    .dataframe thead th {\n",
              "        text-align: right;\n",
              "    }\n",
              "</style>\n",
              "<table border=\"1\" class=\"dataframe\">\n",
              "  <thead>\n",
              "    <tr style=\"text-align: right;\">\n",
              "      <th></th>\n",
              "      <th>country</th>\n",
              "      <th>year</th>\n",
              "      <th>quantity</th>\n",
              "      <th>category</th>\n",
              "    </tr>\n",
              "  </thead>\n",
              "  <tbody>\n",
              "    <tr>\n",
              "      <th>0</th>\n",
              "      <td>Austria</td>\n",
              "      <td>1996</td>\n",
              "      <td>5.0</td>\n",
              "      <td>1</td>\n",
              "    </tr>\n",
              "    <tr>\n",
              "      <th>1</th>\n",
              "      <td>Austria</td>\n",
              "      <td>1995</td>\n",
              "      <td>17.0</td>\n",
              "      <td>1</td>\n",
              "    </tr>\n",
              "    <tr>\n",
              "      <th>2</th>\n",
              "      <td>Belgium</td>\n",
              "      <td>2014</td>\n",
              "      <td>0.0</td>\n",
              "      <td>1</td>\n",
              "    </tr>\n",
              "    <tr>\n",
              "      <th>3</th>\n",
              "      <td>Belgium</td>\n",
              "      <td>2013</td>\n",
              "      <td>0.0</td>\n",
              "      <td>1</td>\n",
              "    </tr>\n",
              "    <tr>\n",
              "      <th>4</th>\n",
              "      <td>Belgium</td>\n",
              "      <td>2012</td>\n",
              "      <td>35.0</td>\n",
              "      <td>1</td>\n",
              "    </tr>\n",
              "  </tbody>\n",
              "</table>\n",
              "</div>\n",
              "      <button class=\"colab-df-convert\" onclick=\"convertToInteractive('df-2ba7645e-ee98-4d90-8739-d2553abab508')\"\n",
              "              title=\"Convert this dataframe to an interactive table.\"\n",
              "              style=\"display:none;\">\n",
              "        \n",
              "  <svg xmlns=\"http://www.w3.org/2000/svg\" height=\"24px\"viewBox=\"0 0 24 24\"\n",
              "       width=\"24px\">\n",
              "    <path d=\"M0 0h24v24H0V0z\" fill=\"none\"/>\n",
              "    <path d=\"M18.56 5.44l.94 2.06.94-2.06 2.06-.94-2.06-.94-.94-2.06-.94 2.06-2.06.94zm-11 1L8.5 8.5l.94-2.06 2.06-.94-2.06-.94L8.5 2.5l-.94 2.06-2.06.94zm10 10l.94 2.06.94-2.06 2.06-.94-2.06-.94-.94-2.06-.94 2.06-2.06.94z\"/><path d=\"M17.41 7.96l-1.37-1.37c-.4-.4-.92-.59-1.43-.59-.52 0-1.04.2-1.43.59L10.3 9.45l-7.72 7.72c-.78.78-.78 2.05 0 2.83L4 21.41c.39.39.9.59 1.41.59.51 0 1.02-.2 1.41-.59l7.78-7.78 2.81-2.81c.8-.78.8-2.07 0-2.86zM5.41 20L4 18.59l7.72-7.72 1.47 1.35L5.41 20z\"/>\n",
              "  </svg>\n",
              "      </button>\n",
              "      \n",
              "  <style>\n",
              "    .colab-df-container {\n",
              "      display:flex;\n",
              "      flex-wrap:wrap;\n",
              "      gap: 12px;\n",
              "    }\n",
              "\n",
              "    .colab-df-convert {\n",
              "      background-color: #E8F0FE;\n",
              "      border: none;\n",
              "      border-radius: 50%;\n",
              "      cursor: pointer;\n",
              "      display: none;\n",
              "      fill: #1967D2;\n",
              "      height: 32px;\n",
              "      padding: 0 0 0 0;\n",
              "      width: 32px;\n",
              "    }\n",
              "\n",
              "    .colab-df-convert:hover {\n",
              "      background-color: #E2EBFA;\n",
              "      box-shadow: 0px 1px 2px rgba(60, 64, 67, 0.3), 0px 1px 3px 1px rgba(60, 64, 67, 0.15);\n",
              "      fill: #174EA6;\n",
              "    }\n",
              "\n",
              "    [theme=dark] .colab-df-convert {\n",
              "      background-color: #3B4455;\n",
              "      fill: #D2E3FC;\n",
              "    }\n",
              "\n",
              "    [theme=dark] .colab-df-convert:hover {\n",
              "      background-color: #434B5C;\n",
              "      box-shadow: 0px 1px 3px 1px rgba(0, 0, 0, 0.15);\n",
              "      filter: drop-shadow(0px 1px 2px rgba(0, 0, 0, 0.3));\n",
              "      fill: #FFFFFF;\n",
              "    }\n",
              "  </style>\n",
              "\n",
              "      <script>\n",
              "        const buttonEl =\n",
              "          document.querySelector('#df-2ba7645e-ee98-4d90-8739-d2553abab508 button.colab-df-convert');\n",
              "        buttonEl.style.display =\n",
              "          google.colab.kernel.accessAllowed ? 'block' : 'none';\n",
              "\n",
              "        async function convertToInteractive(key) {\n",
              "          const element = document.querySelector('#df-2ba7645e-ee98-4d90-8739-d2553abab508');\n",
              "          const dataTable =\n",
              "            await google.colab.kernel.invokeFunction('convertToInteractive',\n",
              "                                                     [key], {});\n",
              "          if (!dataTable) return;\n",
              "\n",
              "          const docLinkHtml = 'Like what you see? Visit the ' +\n",
              "            '<a target=\"_blank\" href=https://colab.research.google.com/notebooks/data_table.ipynb>data table notebook</a>'\n",
              "            + ' to learn more about interactive tables.';\n",
              "          element.innerHTML = '';\n",
              "          dataTable['output_type'] = 'display_data';\n",
              "          await google.colab.output.renderOutput(dataTable, element);\n",
              "          const docLink = document.createElement('div');\n",
              "          docLink.innerHTML = docLinkHtml;\n",
              "          element.appendChild(docLink);\n",
              "        }\n",
              "      </script>\n",
              "    </div>\n",
              "  </div>\n",
              "  "
            ]
          },
          "metadata": {},
          "execution_count": 27
        }
      ]
    },
    {
      "cell_type": "markdown",
      "source": [
        "##Вариант 1. Решение с помощью функций"
      ],
      "metadata": {
        "id": "NhpcYSbj5JRe"
      }
    },
    {
      "cell_type": "code",
      "source": [
        "%%time\n",
        "def my_filter(row): #быстрее ищет по множеству, а не по списку, но здесь маленькая длина списка, нет смысла\n",
        "    \"\"\"Отбор сразу по всем критериям - вхождению в Прибалтику, \n",
        "    нужной категории, году и неотрицатиельному количеству\"\"\"\n",
        "    return row['country'] in ['lithuania', 'Latvia', 'Estonia'] \\\n",
        "      and  row['category'] in [4, 12, 21] \\\n",
        "      and row['year'] in range(2005,2011) \\\n",
        "      and row['quantity'] >= 0\n",
        "    "
      ],
      "metadata": {
        "id": "Og1GJpikiLAi",
        "colab": {
          "base_uri": "https://localhost:8080/"
        },
        "outputId": "4bcd6336-5622-491a-8adf-ed398c8946cc"
      },
      "execution_count": null,
      "outputs": [
        {
          "output_type": "stream",
          "name": "stdout",
          "text": [
            "CPU times: user 6 µs, sys: 1 µs, total: 7 µs\n",
            "Wall time: 10 µs\n"
          ]
        }
      ]
    },
    {
      "cell_type": "code",
      "source": [
        "def my_categories(category):\n",
        "    \"\"\" Отбор категорий потребления согласно критерию \n",
        "    не использовать, если используем\n",
        "      my_filter\n",
        "    \"\"\"\n",
        "    if category in [4, 12, 21]:\n",
        "      return \"selected\"\n",
        "    return \"Other\""
      ],
      "metadata": {
        "id": "zFjha_DHWG-Z"
      },
      "execution_count": null,
      "outputs": []
    },
    {
      "cell_type": "code",
      "source": [
        "def baltic(country):\n",
        "    \"\"\"Объединение стран Прибалтики\n",
        "      не использовать, если используем\n",
        "      my_filter\n",
        "    \"\"\"\n",
        "    if country in ['lithuania', 'Latvia', 'Estonia']:\n",
        "      return 'Прибалтика'\n",
        "    return 'Other'"
      ],
      "metadata": {
        "id": "3Y6pvSiVVWZX"
      },
      "execution_count": null,
      "outputs": []
    },
    {
      "cell_type": "code",
      "source": [
        "%%time\n",
        "data['my_categories'] = data.category.apply(my_categories) #не исп., если исп. my_filter\n",
        "data['my_categories']\n"
      ],
      "metadata": {
        "id": "0Xo0mbpJYF2-",
        "colab": {
          "base_uri": "https://localhost:8080/"
        },
        "outputId": "76cdc84a-1f25-4e22-8618-e533cf77a9c0"
      },
      "execution_count": null,
      "outputs": [
        {
          "output_type": "stream",
          "name": "stdout",
          "text": [
            "CPU times: user 218 ms, sys: 1.6 ms, total: 219 ms\n",
            "Wall time: 219 ms\n"
          ]
        },
        {
          "output_type": "execute_result",
          "data": {
            "text/plain": [
              "0          Other\n",
              "1          Other\n",
              "2          Other\n",
              "3          Other\n",
              "4          Other\n",
              "           ...  \n",
              "1189477    Other\n",
              "1189478    Other\n",
              "1189479    Other\n",
              "1189480    Other\n",
              "1189481    Other\n",
              "Name: my_categories, Length: 1189482, dtype: object"
            ]
          },
          "metadata": {},
          "execution_count": 76
        }
      ]
    },
    {
      "cell_type": "code",
      "source": [
        "%%time\n",
        "data['baltic'] = data.country.apply(baltic) #не исп., если исп. my_filter"
      ],
      "metadata": {
        "id": "GOoMT3C8gYOW",
        "colab": {
          "base_uri": "https://localhost:8080/"
        },
        "outputId": "42d7c9a4-1947-4fbc-dd45-eb6116166f3c"
      },
      "execution_count": null,
      "outputs": [
        {
          "output_type": "stream",
          "name": "stdout",
          "text": [
            "CPU times: user 222 ms, sys: 2.7 ms, total: 225 ms\n",
            "Wall time: 232 ms\n"
          ]
        }
      ]
    },
    {
      "cell_type": "code",
      "source": [
        "%%time\n",
        "filtered_data = data [(data['baltic'] == 'Прибалтика')  #не исп., если исп. my_filter\n",
        "& (data['my_categories'] == 'selected') \n",
        "& (data['year'] > 2004)  \n",
        "& (data['year'] < 2011) \n",
        "& (data['quantity']>=0)]\n",
        "print(f\" суммарное потребление стран Прибалтики (Латвия, Литва и Эстония) категорий 4, 12 и 21 за период с 2005 по 2010 года: {sum(filtered_data['quantity'])}\")\n"
      ],
      "metadata": {
        "id": "hLKu0AXJZK03",
        "colab": {
          "base_uri": "https://localhost:8080/"
        },
        "outputId": "7f7ccc27-482c-4e42-b238-ffa8ac54bd5a"
      },
      "execution_count": null,
      "outputs": [
        {
          "output_type": "stream",
          "name": "stdout",
          "text": [
            " суммарное потребление стран Прибалтики (Латвия, Литва и Эстония) категорий 4, 12 и 21 за период с 2005 по 2010 года: 118284.0\n",
            "CPU times: user 175 ms, sys: 651 µs, total: 175 ms\n",
            "Wall time: 171 ms\n"
          ]
        }
      ]
    },
    {
      "cell_type": "code",
      "source": [
        "%%time\n",
        "data['my_filter'] = data.apply(my_filter, axis = 1)\n",
        "filtered_data = data [(data['my_filter'] == True)] \n",
        "print(f\" суммарное потребление стран Прибалтики (Латвия, Литва и Эстония) категорий 4, 12 и 21 за период с 2005 по 2010 года: {sum(filtered_data['quantity'])}\")\n",
        "# Очень долго!"
      ],
      "metadata": {
        "id": "7Zi1y8JY732m",
        "colab": {
          "base_uri": "https://localhost:8080/"
        },
        "outputId": "678ed542-0853-422d-b490-3795dde6b013"
      },
      "execution_count": null,
      "outputs": [
        {
          "output_type": "stream",
          "name": "stdout",
          "text": [
            " суммарное потребление стран Прибалтики (Латвия, Литва и Эстония) категорий 4, 12 и 21 за период с 2005 по 2010 года: 118284.0\n",
            "CPU times: user 11 s, sys: 66 ms, total: 11.1 s\n",
            "Wall time: 11.1 s\n"
          ]
        }
      ]
    },
    {
      "cell_type": "markdown",
      "source": [
        "##Вариант 2. Решение с использованием lambda - функции"
      ],
      "metadata": {
        "id": "KzK7T4MHCaSo"
      }
    },
    {
      "cell_type": "code",
      "source": [
        "%%time\n",
        "data['my_filter'] = data.apply(lambda x: x['country'] in ['lithuania', 'Latvia', 'Estonia'] \\\n",
        "      and x['category'] in [4, 12, 21] \\\n",
        "      and x['year'] in range(2005,2011) \\\n",
        "      and x['quantity'] >= 0 ,axis = 1)\n",
        "# Очень долго!"
      ],
      "metadata": {
        "id": "V6XotgWhOtT7",
        "colab": {
          "base_uri": "https://localhost:8080/"
        },
        "outputId": "91517d4b-baf6-4c2c-f160-87952f7daef6"
      },
      "execution_count": null,
      "outputs": [
        {
          "output_type": "stream",
          "name": "stdout",
          "text": [
            "CPU times: user 11.2 s, sys: 96.3 ms, total: 11.3 s\n",
            "Wall time: 11.4 s\n"
          ]
        }
      ]
    },
    {
      "cell_type": "code",
      "source": [
        "%%time\n",
        "filtered_data = data [(data['my_filter'] == True)] \n",
        "print(f\" суммарное потребление стран Прибалтики (Латвия, Литва и Эстония) категорий 4, 12 и 21 за период с 2005 по 2010 года: {sum(filtered_data['quantity'])}\")"
      ],
      "metadata": {
        "id": "zWADGs8m8nEZ",
        "colab": {
          "base_uri": "https://localhost:8080/"
        },
        "outputId": "bb139fd7-e77c-433e-fce0-3c92304c0552"
      },
      "execution_count": null,
      "outputs": [
        {
          "output_type": "stream",
          "name": "stdout",
          "text": [
            " суммарное потребление стран Прибалтики (Латвия, Литва и Эстония) категорий 4, 12 и 21 за период с 2005 по 2010 года: 118284.0\n",
            "CPU times: user 5.91 ms, sys: 0 ns, total: 5.91 ms\n",
            "Wall time: 4.74 ms\n"
          ]
        }
      ]
    },
    {
      "cell_type": "markdown",
      "source": [
        "##Вариант 3. Решение через набор фильтров и query - самый быстрый способ"
      ],
      "metadata": {
        "id": "vEbcM_Zw67BI"
      }
    },
    {
      "cell_type": "code",
      "source": [
        "%%time\n",
        "filtered_columns = data.filter(items =['country','year','quantity', 'category']) # Отбираем столбцы, по которым будем фильтровать"
      ],
      "metadata": {
        "colab": {
          "base_uri": "https://localhost:8080/"
        },
        "id": "gQ-uz9EO4uyP",
        "outputId": "48795d24-c098-456f-ed84-32b8a29907ae"
      },
      "execution_count": null,
      "outputs": [
        {
          "output_type": "stream",
          "name": "stdout",
          "text": [
            "CPU times: user 24.8 ms, sys: 894 µs, total: 25.7 ms\n",
            "Wall time: 30.6 ms\n"
          ]
        }
      ]
    },
    {
      "cell_type": "code",
      "source": [
        "%%time\n",
        "filtered_data = filtered_columns.query(\"(quantity >= 0) & (year >= 2005) & (year <= 2010) & category in [4,12,21] and country in  ['lithuania', 'Latvia', 'Estonia']\")\n",
        "print(f\" суммарное потребление стран Прибалтики (Латвия, Литва и Эстония) категорий 4, 12 и 21 за период с 2005 по 2010 года: {sum(filtered_data['quantity'])}\")"
      ],
      "metadata": {
        "colab": {
          "base_uri": "https://localhost:8080/"
        },
        "id": "H4tE3y0B7UZj",
        "outputId": "62a60639-9463-4288-ea32-422ae099ecf9"
      },
      "execution_count": null,
      "outputs": [
        {
          "output_type": "stream",
          "name": "stdout",
          "text": [
            " суммарное потребление стран Прибалтики (Латвия, Литва и Эстония) категорий 4, 12 и 21 за период с 2005 по 2010 года: 118284.0\n",
            "CPU times: user 86 ms, sys: 0 ns, total: 86 ms\n",
            "Wall time: 77.5 ms\n"
          ]
        }
      ]
    },
    {
      "cell_type": "markdown",
      "source": [
        "##Вариант 4. Решение через набор фильтров"
      ],
      "metadata": {
        "id": "skNjuJuDCtMg"
      }
    },
    {
      "cell_type": "code",
      "source": [
        "%%time\n",
        "filtered_data = data[((data['country'] == 'lithuania') | (data['country'] =='Latvia') | (data['country'] =='Estonia')) & (data['quantity'] >= 0) & ((data['category'] == 4) | (data['category'] == 12) | (data['category'] == 21)) & ((data['year'] >= 2005) & (data['year'] <= 2010)) ] \n",
        "print(f\" суммарное потребление стран Прибалтики (Латвия, Литва и Эстония) категорий 4, 12 и 21 за период с 2005 по 2010 года: {sum(filtered_data['quantity'])}\")\n",
        "\n"
      ],
      "metadata": {
        "colab": {
          "base_uri": "https://localhost:8080/"
        },
        "id": "ecHt0YCiDWYQ",
        "outputId": "b7edba97-21d1-46cb-f048-bc50253129b3"
      },
      "execution_count": null,
      "outputs": [
        {
          "output_type": "stream",
          "name": "stdout",
          "text": [
            " суммарное потребление стран Прибалтики (Латвия, Литва и Эстония) категорий 4, 12 и 21 за период с 2005 по 2010 года: 118284.0\n",
            "CPU times: user 254 ms, sys: 3.85 ms, total: 258 ms\n",
            "Wall time: 251 ms\n"
          ]
        }
      ]
    },
    {
      "cell_type": "markdown",
      "source": [
        "## Вариант 5. Решение через набор фильтров и метод .isin() - в 3 раза быстрее по ср. с вариантом 4 + меньше кода писать"
      ],
      "metadata": {
        "id": "43WBJsi2YDHx"
      }
    },
    {
      "cell_type": "code",
      "source": [
        "%%time\n",
        "filtered_data = data[\n",
        "    (data['country'].isin(['lithuania','Latvia','Estonia'])) & \n",
        "    (data['quantity'] >= 0) & \n",
        "    (data['category'].isin([4,12,21])) & \n",
        "    (data['year'].isin([2005,2006,2007,2008,2009,2010]))\n",
        "    ] \n",
        "print(f\" суммарное потребление стран Прибалтики (Латвия, Литва и Эстония) категорий 4, 12 и 21 за период с 2005 по 2010 года: {sum(filtered_data['quantity'])}\")\n"
      ],
      "metadata": {
        "colab": {
          "base_uri": "https://localhost:8080/"
        },
        "id": "t9KQe0X1TnMo",
        "outputId": "6696c8d5-9435-496e-c708-8d145e6ffbde"
      },
      "execution_count": 28,
      "outputs": [
        {
          "output_type": "stream",
          "name": "stdout",
          "text": [
            " суммарное потребление стран Прибалтики (Латвия, Литва и Эстония) категорий 4, 12 и 21 за период с 2005 по 2010 года: 118284.0\n",
            "CPU times: user 78.1 ms, sys: 2.33 ms, total: 80.5 ms\n",
            "Wall time: 79.8 ms\n"
          ]
        }
      ]
    },
    {
      "cell_type": "markdown",
      "source": [
        "# Задание 3\n",
        "Выберите страницу любого сайта с табличными данными. Импортируйте таблицы в pandas dataframe.\n",
        "Примеры страниц (необязательно брать именно эти):\n",
        "https://fortrader.org/quotes\n",
        "www.finanz.ru...om-vremeni"
      ],
      "metadata": {
        "id": "AMnNGuSPtu3p"
      }
    },
    {
      "cell_type": "code",
      "source": [
        "page_url = 'https://www.finanz.ru/aktsii/polymetal'"
      ],
      "metadata": {
        "id": "BUlp2J_vt0WW"
      },
      "execution_count": null,
      "outputs": []
    },
    {
      "cell_type": "code",
      "source": [
        "df = pd.read_html(page_url, attrs ={'class':'header_user_pricebox'}, encoding = 'utf-8')"
      ],
      "metadata": {
        "id": "zhwPbHnspDcw"
      },
      "execution_count": null,
      "outputs": []
    },
    {
      "cell_type": "code",
      "source": [
        "df"
      ],
      "metadata": {
        "colab": {
          "base_uri": "https://localhost:8080/"
        },
        "id": "uJtacCJZu_hA",
        "outputId": "0daeb901-f48a-4ff6-9d3e-d2214d9e5392"
      },
      "execution_count": null,
      "outputs": [
        {
          "output_type": "execute_result",
          "data": {
            "text/plain": [
              "[     0       1     2        3       4      5        6       7      8   \\\n",
              " 0  ММВБ   2 137  2,3%   Nasdaq  12 494  -1,2%  Биткойн  22 883  -1,3%   \n",
              " 1   РТС   1 116  3,0%   S&P500   4 122  -0,4%    Нефть     961  -0,5%   \n",
              " 2   Dow  32 833  0,1%  FTSE100   7 488   0,1%   Золото   1 794   0,0%   \n",
              " \n",
              "         9       10    11  \n",
              " 0  USD/RUB  604750  0,0%  \n",
              " 1  EUR/RUB  617903  0,0%  \n",
              " 2  EUR/USD   10218  0,0%  ]"
            ]
          },
          "metadata": {},
          "execution_count": 175
        }
      ]
    }
  ]
}