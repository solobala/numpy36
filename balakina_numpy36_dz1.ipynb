{
  "nbformat": 4,
  "nbformat_minor": 0,
  "metadata": {
    "colab": {
      "provenance": [],
      "collapsed_sections": []
    },
    "kernelspec": {
      "name": "python3",
      "display_name": "Python 3"
    },
    "language_info": {
      "name": "python"
    }
  },
  "cells": [
    {
      "cell_type": "markdown",
      "source": [
        "# Домашнее задание «Библиотека numpy. Вычислительные задачи»"
      ],
      "metadata": {
        "id": "XUBoWCtsyuyX"
      }
    },
    {
      "cell_type": "code",
      "source": [
        "import numpy as np"
      ],
      "metadata": {
        "id": "rwzvIWukzJjo"
      },
      "execution_count": null,
      "outputs": []
    },
    {
      "cell_type": "markdown",
      "source": [
        "# Задание 1\n",
        "Создайте numpy array с элементами от числа N до 0 (например, для N = 10 это будет array([9, 8, 7, 6, 5, 4, 3, 2, 1, 0]))."
      ],
      "metadata": {
        "id": "05POC33yyyb_"
      }
    },
    {
      "cell_type": "code",
      "execution_count": null,
      "metadata": {
        "colab": {
          "base_uri": "https://localhost:8080/"
        },
        "id": "eIqA0iRJygMX",
        "outputId": "470589b2-ace0-43d1-978e-fe82ee0a7e13"
      },
      "outputs": [
        {
          "name": "stdout",
          "output_type": "stream",
          "text": [
            "5\n"
          ]
        }
      ],
      "source": [
        "n = int(input())"
      ]
    },
    {
      "cell_type": "code",
      "source": [
        "my_array = np.array([i for i in range(n-1,-1,-1)])\n",
        "my_array"
      ],
      "metadata": {
        "colab": {
          "base_uri": "https://localhost:8080/"
        },
        "id": "d8sseWLezUkw",
        "outputId": "8eb453af-d3ce-42b3-85c3-12d76c67bcfe"
      },
      "execution_count": null,
      "outputs": [
        {
          "output_type": "execute_result",
          "data": {
            "text/plain": [
              "array([4, 3, 2, 1, 0])"
            ]
          },
          "metadata": {},
          "execution_count": 7
        }
      ]
    },
    {
      "cell_type": "code",
      "source": [
        "# или с помощью arange\n",
        "my_array = np.arange(n-1,-1,-1)\n",
        "my_array"
      ],
      "metadata": {
        "colab": {
          "base_uri": "https://localhost:8080/"
        },
        "id": "0fYlblpU0U4a",
        "outputId": "c18f0856-e8ff-4fb0-ca1e-2fb80974a949"
      },
      "execution_count": null,
      "outputs": [
        {
          "output_type": "execute_result",
          "data": {
            "text/plain": [
              "array([4, 3, 2, 1, 0])"
            ]
          },
          "metadata": {},
          "execution_count": 9
        }
      ]
    },
    {
      "cell_type": "markdown",
      "source": [
        "# Задание 2\n",
        "Создайте диагональную матрицу с элементами от N до 0. Посчитайте сумму ее значений на диагонали."
      ],
      "metadata": {
        "id": "25bvV3WQy6A-"
      }
    },
    {
      "cell_type": "code",
      "source": [
        "my_matrix = np.diag(np.arange(n, 0, -1))\n",
        "my_matrix"
      ],
      "metadata": {
        "colab": {
          "base_uri": "https://localhost:8080/"
        },
        "id": "fo-7gsJYy9v6",
        "outputId": "aaba3087-e736-4d0c-f029-a08a15c252f7"
      },
      "execution_count": null,
      "outputs": [
        {
          "output_type": "execute_result",
          "data": {
            "text/plain": [
              "array([[5, 0, 0, 0, 0],\n",
              "       [0, 4, 0, 0, 0],\n",
              "       [0, 0, 3, 0, 0],\n",
              "       [0, 0, 0, 2, 0],\n",
              "       [0, 0, 0, 0, 1]])"
            ]
          },
          "metadata": {},
          "execution_count": 10
        }
      ]
    },
    {
      "cell_type": "code",
      "source": [
        "my_matrix.sum() #здесь складываем все элементы, хотя нужно только диагональные. Но у нас остальные нули, так что можно\n"
      ],
      "metadata": {
        "colab": {
          "base_uri": "https://localhost:8080/"
        },
        "id": "1DkzjgQH2HjK",
        "outputId": "9a124e49-cf51-4e62-b4c2-ec9dae715821"
      },
      "execution_count": null,
      "outputs": [
        {
          "output_type": "execute_result",
          "data": {
            "text/plain": [
              "15"
            ]
          },
          "metadata": {},
          "execution_count": 11
        }
      ]
    },
    {
      "cell_type": "code",
      "source": [
        "sum(np.diagonal(my_matrix)) # можно и так, здесь конкретно диагональные элементы складываем"
      ],
      "metadata": {
        "colab": {
          "base_uri": "https://localhost:8080/"
        },
        "id": "dSrraSGLpmCR",
        "outputId": "7dec79ee-b46d-4434-b453-6ec2ccbf47d3"
      },
      "execution_count": null,
      "outputs": [
        {
          "output_type": "execute_result",
          "data": {
            "text/plain": [
              "15"
            ]
          },
          "metadata": {},
          "execution_count": 12
        }
      ]
    },
    {
      "cell_type": "code",
      "source": [
        "# или с помощью np.linspace, т.к согласно условию нет ограничений \n",
        "# на элементы матрицы, кроме как на то, что диагонльные в диапазоне от n до 0\n",
        "my_matrix = np.linspace(n, 0, n**2).reshape(n,n)\n",
        "my_matrix"
      ],
      "metadata": {
        "colab": {
          "base_uri": "https://localhost:8080/"
        },
        "id": "0rxSg8V22Jnk",
        "outputId": "220c0076-2774-4f81-d0a3-ecdd429bc00d"
      },
      "execution_count": null,
      "outputs": [
        {
          "output_type": "execute_result",
          "data": {
            "text/plain": [
              "array([[5.        , 4.79166667, 4.58333333, 4.375     , 4.16666667],\n",
              "       [3.95833333, 3.75      , 3.54166667, 3.33333333, 3.125     ],\n",
              "       [2.91666667, 2.70833333, 2.5       , 2.29166667, 2.08333333],\n",
              "       [1.875     , 1.66666667, 1.45833333, 1.25      , 1.04166667],\n",
              "       [0.83333333, 0.625     , 0.41666667, 0.20833333, 0.        ]])"
            ]
          },
          "metadata": {},
          "execution_count": 6
        }
      ]
    },
    {
      "cell_type": "code",
      "source": [
        "sum(np.diagonal(my_matrix)) # а здесь только так, т.к недиагональные - не нулевые"
      ],
      "metadata": {
        "colab": {
          "base_uri": "https://localhost:8080/"
        },
        "id": "I2HftzaR2eEN",
        "outputId": "aedbcf63-6140-4bb3-b374-0afbe98c7198"
      },
      "execution_count": null,
      "outputs": [
        {
          "output_type": "execute_result",
          "data": {
            "text/plain": [
              "12.5"
            ]
          },
          "metadata": {},
          "execution_count": 9
        }
      ]
    },
    {
      "cell_type": "markdown",
      "source": [
        "# Задание 3\n",
        "Решите систему уравнений:\n",
        "4x + 2y + z = 4\n",
        "x + 3y = 12\n",
        "5y + 4z = -3"
      ],
      "metadata": {
        "id": "QTvvgEL8y-Nk"
      }
    },
    {
      "cell_type": "code",
      "source": [
        "from numpy import linalg # библиотека для задач линейной алгебры"
      ],
      "metadata": {
        "id": "m9Y3DokP51PP"
      },
      "execution_count": null,
      "outputs": []
    },
    {
      "cell_type": "code",
      "source": [
        "a = np.array([[4, 2, 1],[4,3,0], [0, 5, 4]]) # коэффициенты при переменных\n",
        "b = np.array([4, 12,-3]) # вободные члены"
      ],
      "metadata": {
        "id": "GrCHUJpKzCcJ"
      },
      "execution_count": null,
      "outputs": []
    },
    {
      "cell_type": "code",
      "source": [
        "linalg.solve(a, b) # находим x,y,z"
      ],
      "metadata": {
        "colab": {
          "base_uri": "https://localhost:8080/"
        },
        "id": "Zn8Qbqvb5-vh",
        "outputId": "b4b33666-bd95-47cf-8e22-f5aaacdd3707"
      },
      "execution_count": null,
      "outputs": [
        {
          "output_type": "execute_result",
          "data": {
            "text/plain": [
              "array([ 0.58333333,  3.22222222, -4.77777778])"
            ]
          },
          "metadata": {},
          "execution_count": 35
        }
      ]
    },
    {
      "cell_type": "code",
      "source": [
        "np.allclose(np.dot(a, linalg.solve(a,b)), b) # проверка решения"
      ],
      "metadata": {
        "colab": {
          "base_uri": "https://localhost:8080/"
        },
        "id": "iAwptodC6ChL",
        "outputId": "ec3dd3ac-0f19-4c1a-c5cf-01b070264708"
      },
      "execution_count": null,
      "outputs": [
        {
          "output_type": "execute_result",
          "data": {
            "text/plain": [
              "True"
            ]
          },
          "metadata": {},
          "execution_count": 36
        }
      ]
    },
    {
      "cell_type": "markdown",
      "source": [
        "# Задание 4\n",
        "Имеется матрица покупок в интернет-магазине. Столбец А - ID пользователя. Остальные столбцы - количество покупок категорий товаров этим пользователем:"
      ],
      "metadata": {
        "id": "l9xt5zZVzDMf"
      }
    },
    {
      "cell_type": "code",
      "source": [
        "users_stats = np.array(\n",
        "    [\n",
        "        [2, 1, 0, 0, 0, 0],\n",
        "        [1, 1, 2, 1, 0, 0],\n",
        "        [2, 0, 1, 0, 0, 0],\n",
        "        [1, 1, 2, 1, 0, 1],\n",
        "        [0, 0, 1, 2, 0, 0],\n",
        "        [0, 0, 0, 0, 0, 5],\n",
        "        [1, 0, 0, 0, 0, 0],\n",
        "        [0, 1, 1, 0, 0, 0],\n",
        "        [0, 0, 0, 1, 1, 3],\n",
        "        [1, 0, 0, 2, 1, 4]\n",
        "    ], \n",
        "    np.int32\n",
        ")"
      ],
      "metadata": {
        "id": "Srqyy4uF6-mt"
      },
      "execution_count": null,
      "outputs": []
    },
    {
      "cell_type": "markdown",
      "source": [
        "На сайт заходит очередной посетитель, о покупках которого известно следующее:"
      ],
      "metadata": {
        "id": "7zPVh6DS7HQN"
      }
    },
    {
      "cell_type": "code",
      "source": [
        "next_user_stats = np.array([0, 1, 2, 0, 0, 0])"
      ],
      "metadata": {
        "id": "tiDJhU4H6JsO"
      },
      "execution_count": null,
      "outputs": []
    },
    {
      "cell_type": "markdown",
      "source": [
        "Найдите самого похожего пользователя. Т. е. посчитайте косинусное сходство между этим пользователем и всеми пользователями из массива user_stats"
      ],
      "metadata": {
        "id": "BXtIUnbw7L9c"
      }
    },
    {
      "cell_type": "code",
      "source": [
        "def cosine( a, b ):\n",
        "    \"\"\"\n",
        "    Подсчет косинуса угла между векторами a, b по их координатам\n",
        "    \"\"\"\n",
        "    \n",
        "    # длины векторов\n",
        "    aLength = np.linalg.norm( a )\n",
        "    bLength = np.linalg.norm( b )\n",
        "    \n",
        "    return np.dot( a, b ) / ( aLength * bLength )"
      ],
      "metadata": {
        "id": "JaBs3xhn7KMZ"
      },
      "execution_count": null,
      "outputs": []
    },
    {
      "cell_type": "code",
      "source": [
        "dim = users_stats.shape # определяем размеры исходной матрицы\n",
        "result = 0 # исходный косинус угла\n",
        "user = np.zeros(dim[1]) # инициализируем user массивом размера dim[1] и заполняем 0\n",
        "\n",
        "for _ in range(dim[0]): # поочередно проверяем всех пользователей на косинусное сходство\n",
        "    if cosine(users_stats[_,:],next_user_stats) > result:\n",
        "        result = cosine(users_stats[_,:],next_user_stats)\n",
        "        user = users_stats[_,:]\n",
        "        \n",
        "print(f'Самый похожий пользователь : {user}, косинусное сходство : {result}')"
      ],
      "metadata": {
        "colab": {
          "base_uri": "https://localhost:8080/"
        },
        "id": "M3FcDXkZ7lMO",
        "outputId": "b4ad0383-aaa1-4259-9003-693938e17c65"
      },
      "execution_count": null,
      "outputs": [
        {
          "output_type": "stream",
          "name": "stdout",
          "text": [
            "Самый похожий пользователь : [0 1 1 0 0 0], косинусное сходство : 0.9486832980505138\n"
          ]
        }
      ]
    },
    {
      "cell_type": "code",
      "source": [
        "# Более короткое решение с использованием lambda, map, list comprehension и возможностей numpy argmax\n",
        "\n",
        "result = np.array(list(map(lambda i: cosine(users_stats[i,:],next_user_stats),[i for i in range(dim[0])])))\n",
        "# перебираем i в интервале от нуля до размера исходной матрицы. В соответствие каждому i с помощью lambda ставится значение функции \n",
        "index = np.argmax(result)\n",
        "print(f'Самый похожий пользователь : {users_stats[index,:]},  косинусное сходство : {result[index]}')"
      ],
      "metadata": {
        "colab": {
          "base_uri": "https://localhost:8080/"
        },
        "id": "wxqdZZGUqsG9",
        "outputId": "4031e0f5-c44e-413c-d2e6-e88740c83cfe"
      },
      "execution_count": null,
      "outputs": [
        {
          "output_type": "stream",
          "name": "stdout",
          "text": [
            "Самый похожий пользователь : [0 1 1 0 0 0],  косинусное сходство : 0.9486832980505138\n"
          ]
        }
      ]
    }
  ]
}